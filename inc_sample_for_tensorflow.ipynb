{
 "cells": [
  {
   "cell_type": "markdown",
   "id": "e37ea7a6",
   "metadata": {},
   "source": [
    "# Intel® Neural Compressor Sample for Tensorflow"
   ]
  },
  {
   "cell_type": "markdown",
   "id": "799b2d67",
   "metadata": {},
   "source": [
    "## Introduction\n",
    "\n",
    "This is a demo to show an End-To-End pipeline to speed up AI model by Intel® Neural Compressor.\n",
    "\n",
    "1. Train a CNN AlexNet model by Keras and Intel Optimization for Tensorflow based on dataset MNIST.\n",
    "\n",
    "2. Quantize the frozen PB model file by Intel® Neural Compressor to INT8 model.\n",
    "\n",
    "3. Compare the performance of FP32 and INT8 model by same script.\n"
   ]
  },
  {
   "cell_type": "markdown",
   "id": "82f09276",
   "metadata": {},
   "source": [
    "## Run in Intel® DevCloud\n",
    "\n",
    "### Find a Computing Node"
   ]
  },
  {
   "cell_type": "code",
   "execution_count": null,
   "id": "3f031bc0",
   "metadata": {},
   "outputs": [],
   "source": [
    "!echo \"* How many compute servers are available?\"\n",
    "!pbsnodes | grep \"^s\" | wc -l\n",
    "\n",
    "!echo \"* How many of them are free?\"\n",
    "!pbsnodes | grep \"state = free\" | wc -l\n",
    "\n",
    "!echo \"* What are the time limits for queued jobs?\"\n",
    "!qmgr -c 'p q batch' | grep walltime\n",
    "\n",
    "!echo \"* What is the configuration of the available compute servers?\"\n",
    "!pbsnodes | grep properties | sort | uniq"
   ]
  },
  {
   "cell_type": "code",
   "execution_count": null,
   "id": "f51bc091",
   "metadata": {},
   "outputs": [],
   "source": [
    "!qsub run_inc_ft_mnist_sample.sh -d `pwd` -l nodes=1:icx:ppn=2"
   ]
  },
  {
   "cell_type": "code",
   "execution_count": null,
   "id": "b6b36c9c-f612-4517-914c-d5ca6ee92d27",
   "metadata": {},
   "outputs": [],
   "source": [
    "!cat run_inc_ft_mnist_sample.sh.o28026"
   ]
  },
  {
   "cell_type": "markdown",
   "id": "2532eea3-4c46-49b2-b28d-47f7c09b38b6",
   "metadata": {},
   "source": [
    "```\n",
    "Model            FP32                     INT8                    \n",
    "throughput(fps)  734.4299699112157        2808.1611272215687      \n",
    "latency(ms)      1.7555093278690261       0.8621371522241709      \n",
    "accuracy(%)      0.9821                   0.9822                  \n",
    "\n",
    "Save to fp32_int8_aboslute.png\n",
    "\n",
    "Model            FP32                     INT8                    \n",
    "throughput_times 1                        3.8235927757156256      \n",
    "latency_times    1                        0.4911037147667566      \n",
    "accuracy_diff(%) 0                        0.010000000000005116   \n",
    "```"
   ]
  },
  {
   "cell_type": "code",
   "execution_count": null,
   "id": "35833dbe",
   "metadata": {},
   "outputs": [],
   "source": [
    "!bash t.sh"
   ]
  },
  {
   "cell_type": "markdown",
   "id": "c29aceb5",
   "metadata": {},
   "source": [
    "![fp32_int8_aboslute.png](fp32_int8_aboslute.png)"
   ]
  },
  {
   "cell_type": "markdown",
   "id": "e64900d6",
   "metadata": {},
   "source": [
    "![fp32_int8_times.png](fp32_int8_times.png)"
   ]
  },
  {
   "cell_type": "code",
   "execution_count": null,
   "id": "44c31db2",
   "metadata": {},
   "outputs": [],
   "source": []
  }
 ],
 "metadata": {
  "kernelspec": {
   "display_name": "Tensorflow (AI kit)",
   "language": "python",
   "name": "c009-intel_distribution_of_python_3_oneapi-beta05-tf"
  },
  "language_info": {
   "codemirror_mode": {
    "name": "ipython",
    "version": 3
   },
   "file_extension": ".py",
   "mimetype": "text/x-python",
   "name": "python",
   "nbconvert_exporter": "python",
   "pygments_lexer": "ipython3",
   "version": "3.9.7"
  }
 },
 "nbformat": 4,
 "nbformat_minor": 5
}
